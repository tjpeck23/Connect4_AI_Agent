{
  "cells": [
    {
      "cell_type": "markdown",
      "metadata": {
        "id": "Z-WOMWNaJCWa"
      },
      "source": [
        "# Adversarial Search: Playing Connect 4\n",
        "\n",
        "Student Name: Travis Peck\n",
        "\n",
        "I have used the following AI tools: None\n",
        "\n",
        "I understand that my submission needs to be my own work: TP\n",
        "\n",
        "## Instructions\n",
        "\n",
        "Total Points: Undegraduates 100, graduate students 110\n",
        "\n",
        "Complete this notebook and submit it. The notebook needs to be a complete project report with your implementation, documentation including a short discussion of how your implementation works and your design choices, and experimental results (e.g., tables and charts with simulation results) with a short discussion of what they mean. Use the provided notebook cells and insert additional code and markdown cells as needed.\n",
        "\n",
        "## Introduction\n",
        "\n",
        "You will implement different versions of agents that play Connect 4:\n",
        "\n",
        "> \"Connect 4 is a two-player connection board game, in which the players choose a color and then take turns dropping colored discs into a seven-column, six-row vertically suspended grid. The pieces fall straight down, occupying the lowest available space within the column. The objective of the game is to be the first to form a horizontal, vertical, or diagonal line of four of one's own discs.\" (see [Connect Four on Wikipedia](https://en.wikipedia.org/wiki/Connect_Four))\n",
        "\n",
        "Note that [Connect-4 has been solved](https://en.wikipedia.org/wiki/Connect_Four#Mathematical_solution)\n",
        "in 1988. A connect-4 solver with a discussion of how to solve different parts of the problem can be found here: https://connect4.gamesolver.org/en/"
      ]
    },
    {
      "cell_type": "markdown",
      "metadata": {
        "id": "qdq-FpMoJCWc"
      },
      "source": [
        "## Task 1: Defining the Search Problem [10 point]\n",
        "\n",
        "Define the components of the search problem:\n",
        "\n",
        "* Initial state\n",
        "* Actions\n",
        "* Transition model (result function)\n",
        "* Goal state (terminal state and utility)"
      ]
    },
    {
      "cell_type": "code",
      "execution_count": 1,
      "metadata": {},
      "outputs": [],
      "source": [
        "# Initial State: The initial state is either an empty board or a preset board with tokens of a value 1 or -1.\n",
        "# Actions: The set of available actions are the column numbers of the board that have an open space available to 'drop' a token\n",
        "# Transition model: The transition model is the resulting state that exists after a player drops a token in an available column\n",
        "# Goal state: Any state that has 4 consecutive tokens in a diagonal, horizontal, or vertical order. If this state occurs after an action, the state is terminal and the game is concluded"
      ]
    },
    {
      "cell_type": "markdown",
      "metadata": {
        "id": "ogBz-0G_JCWd"
      },
      "source": [
        "How big is the state space? Give an estimate and explain it."
      ]
    },
    {
      "cell_type": "code",
      "execution_count": 2,
      "metadata": {
        "id": "nttLLgTYJCWe"
      },
      "outputs": [],
      "source": [
        "# With 6 rows and 7 columns in a typical board of connect 4, this leads to 42 cells. Each of these cells can be one of three states (1, 0, -1). \n",
        "# This would be a theoretical maximum of 3^42 possibilities, but this doesn't account for certain rules such as how gravity constrains the amount of moves possible, \n",
        "# terminal states limit the amount of possible moves, and that players alternate turns.\n",
        "# Research suggests that there are 4.53 trillion possibilities, accounting for the constraints I listed above."
      ]
    },
    {
      "cell_type": "markdown",
      "metadata": {
        "id": "UIXjS0RvJCWe"
      },
      "source": [
        "How big is the game tree that minimax search will go through? Give an estimate and explain it."
      ]
    },
    {
      "cell_type": "code",
      "execution_count": 3,
      "metadata": {
        "id": "0AXh8TNQJCWe"
      },
      "outputs": [],
      "source": [
        "# With a time complexity of O(b^m), with b=number of legal moves at each points, and m=maximum depth of the tree, \n",
        "# we can summarize this as the sum of powers of the branching factor, reduced by each layer of the tree as fewer moves become available\n",
        "# Total Nodes = Summation(0 through 42) of b^d \n",
        "# b = branching factor (about 4-5 for most games as the columns get filled up)\n",
        "# Therefore, we would have a game tree of (5^43 - 1) / 4"
      ]
    },
    {
      "cell_type": "markdown",
      "metadata": {
        "id": "_zg4M7vfJCWe"
      },
      "source": [
        "## Task 2: Game Environment and Random Agent [25 point]\n",
        "\n",
        "Use a numpy character array as the board."
      ]
    },
    {
      "cell_type": "code",
      "execution_count": 4,
      "metadata": {
        "id": "tl8fqxnCJCWe",
        "outputId": "7ede0dde-05d7-463d-b9b4-b8b626585e9a"
      },
      "outputs": [
        {
          "name": "stdout",
          "output_type": "stream",
          "text": [
            "[[0 0 0 0 0 0 0]\n",
            " [0 0 0 0 0 0 0]\n",
            " [0 0 0 0 0 0 0]\n",
            " [0 0 0 0 0 0 0]\n",
            " [0 0 0 0 0 0 0]\n",
            " [0 0 0 0 0 0 0]]\n"
          ]
        }
      ],
      "source": [
        "import numpy as np\n",
        "\n",
        "def empty_board(shape=(6, 7)):\n",
        "    return np.full(shape=shape, fill_value=0)\n",
        "\n",
        "print(empty_board())"
      ]
    },
    {
      "cell_type": "markdown",
      "metadata": {
        "id": "1VilWWhBJCWf"
      },
      "source": [
        "The standard board is $6 \\times 7$ but you can use smaller boards to test your code. Instead of colors (red and yellow), I use 1 and -1 to represent the players. Make sure that your agent functions all have the from: `agent_type(board, player = 1)`, where board is the current board position (in the format above) and player is the player whose next move it is and who the agent should play (as 1 and -1)."
      ]
    },
    {
      "cell_type": "code",
      "execution_count": 5,
      "metadata": {
        "id": "FRS2skZ9JCWf",
        "outputId": "4f0347d5-6dd0-463e-9d9f-2225ce770825",
        "tags": []
      },
      "outputs": [
        {
          "data": {
            "image/png": "[encoded data removed]",
            "text/plain": [
              "<Figure size 640x480 with 1 Axes>"
            ]
          },
          "metadata": {},
          "output_type": "display_data"
        }
      ],
      "source": [
        "# Visualization code by Randolph Rankin\n",
        "\n",
        "import matplotlib.pyplot as plt\n",
        "\n",
        "def visualize(board):\n",
        "    plt.axes()\n",
        "    rectangle=plt.Rectangle((-0.5,len(board)*-1+0.5),len(board[0]),len(board),fc='blue')\n",
        "    circles=[]\n",
        "    for i,row in enumerate(board):\n",
        "        for j,val in enumerate(row):\n",
        "            color='white' if val==0 else 'red' if val==1 else 'yellow'\n",
        "            circles.append(plt.Circle((j,i*-1),0.4,fc=color))\n",
        "\n",
        "    plt.gca().add_patch(rectangle)\n",
        "    for circle in circles:\n",
        "        plt.gca().add_patch(circle)\n",
        "\n",
        "    plt.axis('scaled')\n",
        "    plt.show()\n",
        "\n",
        "board = [[0, 0, 0, 0, 0, 0, 0],\n",
        "         [0, 0, 0, 0, 0, 0, 0],\n",
        "         [0, 0, 0, 0, 0, 0, 0],\n",
        "         [0, 0, 0, 1, 0, 0, 0],\n",
        "         [0, 0, 0, 1, 0, 0, 0],\n",
        "         [0,-1,-1, 1,-1, 0, 0]]\n",
        "visualize(board)"
      ]
    },
    {
      "cell_type": "markdown",
      "metadata": {
        "id": "w7BbYJpbJCWf",
        "tags": []
      },
      "source": [
        "Implement helper functions for:\n",
        "\n",
        "* A check for available actions in each state `actions(s)`.\n",
        "* The transition model `result(s, a)`.\n",
        "* Check for terminal states `terminal(s)`.\n",
        "* The utility function `utility(s)`.\n",
        "\n",
        "Make sure that all these functions work with boards of different sizes (number of columns and rows)."
      ]
    },
    {
      "cell_type": "code",
      "execution_count": 6,
      "metadata": {},
      "outputs": [],
      "source": [
        "# Returns the indices of the columns that have at least 1 open spot for a disk\n",
        "def actions(s):\n",
        "    return [col for col in range(len(s[0])) if s[0][col] == 0]"
      ]
    },
    {
      "cell_type": "code",
      "execution_count": 7,
      "metadata": {},
      "outputs": [],
      "source": [
        "# Transition model\n",
        "def results(s, a, player):\n",
        "    if a == None:\n",
        "        return s\n",
        "    # A is an index of which column the agent wants to choose \n",
        "    choice = a\n",
        "    \n",
        "    # Iterates through each row in the board\n",
        "    for i, row in enumerate(s):\n",
        "        # Space that we examine to see if its available\n",
        "        check = s[i][choice]\n",
        "        # If the bottom row and empty, we can play there\n",
        "        if (i == len(s) - 1) and check == 0:\n",
        "            #s = s.copy()\n",
        "            s[i][choice] = player\n",
        "            return s\n",
        "        # If the row has an enemy token, we can place on top of it\n",
        "        if check != 0:\n",
        "            s[i-1][choice] = player\n",
        "            return s"
      ]
    },
    {
      "cell_type": "code",
      "execution_count": 8,
      "metadata": {},
      "outputs": [],
      "source": [
        "board= [\n",
        "    [0, 0, 0, 0, 0, 0, 0],\n",
        "    [0, 0, 0, 0, 0, 0, 0],\n",
        "    [0, 0, 0, 0, 0, 0, 0],\n",
        "    [0, 0, 1, 1, 0, 0, 0],\n",
        "    [0, 0, 1, 1, 0, 0, 0],\n",
        "    [0, 0,-1, 1,-1, 0, 0]\n",
        "]"
      ]
    },
    {
      "cell_type": "code",
      "execution_count": 9,
      "metadata": {},
      "outputs": [
        {
          "data": {
            "text/plain": [
              "[[0, 0, 0, 0, 0, 0, 0],\n",
              " [0, 0, 0, 0, 0, 0, 0],\n",
              " [0, 0, 0, 0, 0, 0, 0],\n",
              " [0, 0, 1, 1, 0, 0, 0],\n",
              " [0, 0, 1, 1, 0, 0, 0],\n",
              " [0, 0, -1, 1, -1, 0, 0]]"
            ]
          },
          "execution_count": 9,
          "metadata": {},
          "output_type": "execute_result"
        }
      ],
      "source": [
        "board"
      ]
    },
    {
      "cell_type": "code",
      "execution_count": 10,
      "metadata": {},
      "outputs": [],
      "source": [
        "def check_win(s):\n",
        "    rows = len(s)  \n",
        "    cols = len(s[0]) \n",
        "    def in_bounds(x, y):\n",
        "        return 0 <= x < rows and 0 <= y < cols\n",
        "    directions = [(0, 1), (1, 0), (1, 1), (1, -1)]\n",
        "    for i in range(rows):\n",
        "        for j in range(cols):\n",
        "            if s[i][j] != 0: \n",
        "                player = s[i][j]  \n",
        "                for dx, dy in directions:\n",
        "                    win = True\n",
        "                    # Check the next three cells in the chosen direction\n",
        "                    for n in range(1, 4):\n",
        "                        x, y = i + dx * n, j + dy * n\n",
        "                        # Check if the next cells are in bounds and belong to the same player\n",
        "                        if not in_bounds(x, y) or s[x][y] != player:\n",
        "                            win = False  # Not a winning sequence\n",
        "                            break\n",
        "                    if win:\n",
        "                        return player\n",
        "    if all(s[0][col] != 0 for col in range(cols)):\n",
        "        return 'draw' \n",
        "\n",
        "    return 'next' "
      ]
    },
    {
      "cell_type": "code",
      "execution_count": 11,
      "metadata": {},
      "outputs": [],
      "source": [
        "def terminal(s):\n",
        "    # If check_wins leads to a win or a draw (the spaces are completely filled), the game is terminal\n",
        "    if check_win(s) == 1 or check_win(s) == -1 or check_win(s) == 'draw':\n",
        "        return True\n",
        "    else:\n",
        "        return False\n"
      ]
    },
    {
      "cell_type": "code",
      "execution_count": 12,
      "metadata": {},
      "outputs": [],
      "source": [
        "def utility(s):\n",
        "    # Depending on which player won, return a utility matching to either the maximizing or minimizing player\n",
        "    goal = check_win(s)\n",
        "    if goal == 1: return 1\n",
        "    if goal == 'draw': return 0\n",
        "    if goal == -1: return -1\n",
        "    # If utility == none, we will keep exploring (this is relevant in our minimax search function)\n",
        "    else:\n",
        "        return None"
      ]
    },
    {
      "cell_type": "markdown",
      "metadata": {
        "id": "2UgL4XfVJCWg"
      },
      "source": [
        "Implement an agent that plays randomly. Make sure the agent function receives as the percept the board and returns a valid action. Use an agent function definition with the following signature (arguments):\n",
        "\n",
        "`def random_player(board, player = 1): ...`\n",
        "\n",
        "The argument `player` is used for agents that do not store what color they are playing. The value passed on by the environment should be 1 ot -1 for player red and yellow, respectively.  See [Experiments section for tic-tac-toe](https://nbviewer.org/github/mhahsler/CS7320-AI/blob/master/Games/tictactoe_and_or_tree_search.ipynb#Experiments) for an example."
      ]
    },
    {
      "cell_type": "code",
      "execution_count": 13,
      "metadata": {
        "id": "Vtr-aQCrJCWg"
      },
      "outputs": [],
      "source": [
        "# Your code/ answer goes here.\n",
        "import random\n",
        "# Random agent\n",
        "def random_player(s, player=None):\n",
        "    # Randomly choosing between the available columns\n",
        "    choices = actions(s)\n",
        "    # If there are no available columns, the game is a draw\n",
        "    if len(choices) == 0:\n",
        "        return 'draw'\n",
        "    selection = random.choice(choices)\n",
        "    return(selection)"
      ]
    },
    {
      "cell_type": "markdown",
      "metadata": {
        "id": "UFa6xj4hJCWg"
      },
      "source": [
        "Let two random agents play against each other 1000 times. Look at the [Experiments section for tic-tac-toe](https://nbviewer.org/github/mhahsler/CS7320-AI/blob/master/Games/tictactoe_and_or_tree_search.ipynb#Experiments) to see how the environment uses the agent functions to play against each other.\n",
        "\n",
        "How often does each player win? Is the result expected?"
      ]
    },
    {
      "cell_type": "code",
      "execution_count": 14,
      "metadata": {
        "id": "S0oYKDeiJCWg",
        "tags": []
      },
      "outputs": [],
      "source": [
        "# Your code/ answer goes here.\n",
        "import time\n",
        "import random\n",
        "\n",
        "#Function to switch players\n",
        "def switch_player(player):\n",
        "    if player == 1:\n",
        "        return -1\n",
        "    else:\n",
        "        return 1\n",
        "\n",
        "def play(player1, player2, board='empty', N=1000):\n",
        "    # List keeping track of who wins\n",
        "    wins = []\n",
        "    # We will set the first player as the maximizing player rather than random, because it will allow us to easily keep track of which agent is maximizing and which is minimizing\n",
        "    player = 1\n",
        "    \n",
        "    for i in range(0,N):\n",
        "        if board == 'empty':\n",
        "            s = empty_board(shape = (4,4))\n",
        "        else:\n",
        "            s = board\n",
        "\n",
        "        while True:\n",
        "            # First player's move\n",
        "            move1 = player1(s)\n",
        "            # Transition model to get resulting state from action\n",
        "            s = results(s, move1, player=player)\n",
        "            # Checking for win or draw\n",
        "            if terminal(s) == True or move1 == None:\n",
        "                if check_win(s) == 'draw':\n",
        "                    print('DRAW')\n",
        "                    break\n",
        "                else:\n",
        "                    print(f'Player {player} wins!')\n",
        "                    wins.append(player)\n",
        "                    break\n",
        "            # Switch player value\n",
        "            player = switch_player(player)\n",
        "\n",
        "            # Other player's move\n",
        "            move2 = player2(s)\n",
        "\n",
        "            # Getting resulting state from action\n",
        "            s = results(s, move2, player=player)\n",
        "            # Checking if the game is terminal\n",
        "            if terminal(s) == True or move2 == None:\n",
        "                if check_win(s) == 'draw':\n",
        "                    print('DRAW')\n",
        "                    break\n",
        "                else:\n",
        "                    print(f'Player {player} wins!')\n",
        "                    wins.append(player)\n",
        "                    break\n",
        "            # Switch back to other player\n",
        "            player = switch_player(player)\n",
        "    print()\n",
        "    return wins, s\n",
        "        "
      ]
    },
    {
      "cell_type": "code",
      "execution_count": 15,
      "metadata": {},
      "outputs": [
        {
          "name": "stdout",
          "output_type": "stream",
          "text": [
            "DRAW\n",
            "DRAW\n",
            "DRAW\n",
            "DRAW\n",
            "Player 1 wins!\n",
            "DRAW\n",
            "DRAW\n",
            "Player 1 wins!\n",
            "Player -1 wins!\n",
            "Player -1 wins!\n",
            "Player 1 wins!\n",
            "Player -1 wins!\n",
            "Player -1 wins!\n",
            "DRAW\n",
            "Player 1 wins!\n",
            "DRAW\n",
            "DRAW\n",
            "Player 1 wins!\n",
            "Player 1 wins!\n",
            "Player 1 wins!\n",
            "Player 1 wins!\n",
            "Player 1 wins!\n",
            "DRAW\n",
            "DRAW\n",
            "DRAW\n",
            "Player 1 wins!\n",
            "DRAW\n",
            "DRAW\n",
            "DRAW\n",
            "Player -1 wins!\n",
            "Player 1 wins!\n",
            "DRAW\n",
            "Player -1 wins!\n",
            "Player -1 wins!\n",
            "DRAW\n",
            "DRAW\n",
            "Player -1 wins!\n",
            "DRAW\n",
            "DRAW\n",
            "DRAW\n",
            "DRAW\n",
            "DRAW\n",
            "Player 1 wins!\n",
            "Player 1 wins!\n",
            "DRAW\n",
            "DRAW\n",
            "DRAW\n",
            "DRAW\n",
            "DRAW\n",
            "DRAW\n",
            "DRAW\n",
            "DRAW\n",
            "DRAW\n",
            "Player -1 wins!\n",
            "DRAW\n",
            "DRAW\n",
            "Player -1 wins!\n",
            "DRAW\n",
            "DRAW\n",
            "Player 1 wins!\n",
            "Player 1 wins!\n",
            "DRAW\n",
            "Player 1 wins!\n",
            "Player -1 wins!\n",
            "Player -1 wins!\n",
            "DRAW\n",
            "DRAW\n",
            "Player -1 wins!\n",
            "DRAW\n",
            "Player 1 wins!\n",
            "DRAW\n",
            "Player -1 wins!\n",
            "DRAW\n",
            "DRAW\n",
            "Player 1 wins!\n",
            "Player 1 wins!\n",
            "DRAW\n",
            "DRAW\n",
            "Player 1 wins!\n",
            "DRAW\n",
            "Player 1 wins!\n",
            "DRAW\n",
            "DRAW\n",
            "DRAW\n",
            "Player 1 wins!\n",
            "DRAW\n",
            "Player -1 wins!\n",
            "DRAW\n",
            "Player -1 wins!\n",
            "Player 1 wins!\n",
            "Player 1 wins!\n",
            "Player 1 wins!\n",
            "Player 1 wins!\n",
            "Player 1 wins!\n",
            "Player 1 wins!\n",
            "Player -1 wins!\n",
            "Player -1 wins!\n",
            "DRAW\n",
            "DRAW\n",
            "Player 1 wins!\n",
            "Player -1 wins!\n",
            "DRAW\n",
            "DRAW\n",
            "DRAW\n",
            "Player -1 wins!\n",
            "Player 1 wins!\n",
            "Player 1 wins!\n",
            "Player 1 wins!\n",
            "Player 1 wins!\n",
            "Player 1 wins!\n",
            "Player -1 wins!\n",
            "DRAW\n",
            "Player -1 wins!\n",
            "DRAW\n",
            "DRAW\n",
            "Player 1 wins!\n",
            "Player 1 wins!\n",
            "Player -1 wins!\n",
            "Player -1 wins!\n",
            "Player 1 wins!\n",
            "DRAW\n",
            "DRAW\n",
            "Player -1 wins!\n",
            "Player 1 wins!\n",
            "Player 1 wins!\n",
            "DRAW\n",
            "DRAW\n",
            "Player 1 wins!\n",
            "DRAW\n",
            "DRAW\n",
            "DRAW\n",
            "Player -1 wins!\n",
            "DRAW\n",
            "DRAW\n",
            "Player -1 wins!\n",
            "DRAW\n",
            "Player 1 wins!\n",
            "DRAW\n",
            "Player -1 wins!\n",
            "Player 1 wins!\n",
            "DRAW\n",
            "Player -1 wins!\n",
            "Player -1 wins!\n",
            "DRAW\n",
            "DRAW\n",
            "DRAW\n",
            "Player -1 wins!\n",
            "DRAW\n",
            "Player 1 wins!\n",
            "DRAW\n",
            "Player 1 wins!\n",
            "Player -1 wins!\n",
            "Player -1 wins!\n",
            "DRAW\n",
            "Player 1 wins!\n",
            "DRAW\n",
            "DRAW\n",
            "DRAW\n",
            "DRAW\n",
            "Player -1 wins!\n",
            "Player 1 wins!\n",
            "Player 1 wins!\n",
            "DRAW\n",
            "DRAW\n",
            "DRAW\n",
            "DRAW\n",
            "DRAW\n",
            "DRAW\n",
            "Player -1 wins!\n",
            "DRAW\n",
            "Player -1 wins!\n",
            "Player 1 wins!\n",
            "DRAW\n",
            "Player -1 wins!\n",
            "DRAW\n",
            "DRAW\n",
            "DRAW\n",
            "Player 1 wins!\n",
            "Player -1 wins!\n",
            "Player -1 wins!\n",
            "Player -1 wins!\n",
            "DRAW\n",
            "DRAW\n",
            "Player -1 wins!\n",
            "Player -1 wins!\n",
            "DRAW\n",
            "Player 1 wins!\n",
            "Player -1 wins!\n",
            "Player -1 wins!\n",
            "Player 1 wins!\n",
            "Player 1 wins!\n",
            "Player -1 wins!\n",
            "Player 1 wins!\n",
            "DRAW\n",
            "DRAW\n",
            "DRAW\n",
            "Player 1 wins!\n",
            "Player -1 wins!\n",
            "Player -1 wins!\n",
            "DRAW\n",
            "Player 1 wins!\n",
            "Player -1 wins!\n",
            "Player -1 wins!\n",
            "DRAW\n",
            "DRAW\n",
            "DRAW\n",
            "Player -1 wins!\n",
            "DRAW\n",
            "DRAW\n",
            "DRAW\n",
            "DRAW\n",
            "Player 1 wins!\n",
            "Player 1 wins!\n",
            "DRAW\n",
            "Player -1 wins!\n",
            "Player 1 wins!\n",
            "Player 1 wins!\n",
            "Player 1 wins!\n",
            "DRAW\n",
            "DRAW\n",
            "Player -1 wins!\n",
            "Player 1 wins!\n",
            "DRAW\n",
            "Player -1 wins!\n",
            "DRAW\n",
            "Player -1 wins!\n",
            "Player -1 wins!\n",
            "DRAW\n",
            "Player -1 wins!\n",
            "DRAW\n",
            "DRAW\n",
            "Player -1 wins!\n",
            "Player -1 wins!\n",
            "Player 1 wins!\n",
            "Player 1 wins!\n",
            "DRAW\n",
            "DRAW\n",
            "Player 1 wins!\n",
            "DRAW\n",
            "Player 1 wins!\n",
            "Player -1 wins!\n",
            "DRAW\n",
            "Player -1 wins!\n",
            "DRAW\n",
            "DRAW\n",
            "DRAW\n",
            "Player 1 wins!\n",
            "DRAW\n",
            "DRAW\n",
            "DRAW\n",
            "DRAW\n",
            "DRAW\n",
            "Player 1 wins!\n",
            "DRAW\n",
            "DRAW\n",
            "Player -1 wins!\n",
            "DRAW\n",
            "Player 1 wins!\n",
            "DRAW\n",
            "DRAW\n",
            "Player -1 wins!\n",
            "DRAW\n",
            "Player 1 wins!\n",
            "Player 1 wins!\n",
            "DRAW\n",
            "DRAW\n",
            "DRAW\n",
            "DRAW\n",
            "DRAW\n",
            "Player 1 wins!\n",
            "DRAW\n",
            "Player 1 wins!\n",
            "DRAW\n",
            "DRAW\n",
            "DRAW\n",
            "Player -1 wins!\n",
            "Player -1 wins!\n",
            "Player -1 wins!\n",
            "Player 1 wins!\n",
            "Player -1 wins!\n",
            "Player -1 wins!\n",
            "DRAW\n",
            "DRAW\n",
            "Player -1 wins!\n",
            "DRAW\n",
            "DRAW\n",
            "DRAW\n",
            "DRAW\n",
            "Player -1 wins!\n",
            "DRAW\n",
            "Player -1 wins!\n",
            "Player -1 wins!\n",
            "Player -1 wins!\n",
            "DRAW\n",
            "Player 1 wins!\n",
            "Player 1 wins!\n",
            "Player 1 wins!\n",
            "Player -1 wins!\n",
            "Player 1 wins!\n",
            "DRAW\n",
            "DRAW\n",
            "Player -1 wins!\n",
            "DRAW\n",
            "DRAW\n",
            "Player 1 wins!\n",
            "DRAW\n",
            "DRAW\n",
            "DRAW\n",
            "DRAW\n",
            "Player -1 wins!\n",
            "DRAW\n",
            "Player -1 wins!\n",
            "Player 1 wins!\n",
            "Player 1 wins!\n",
            "DRAW\n",
            "Player -1 wins!\n",
            "DRAW\n",
            "Player -1 wins!\n",
            "Player -1 wins!\n",
            "Player 1 wins!\n",
            "Player 1 wins!\n",
            "Player 1 wins!\n",
            "Player -1 wins!\n",
            "DRAW\n",
            "Player 1 wins!\n",
            "DRAW\n",
            "DRAW\n",
            "DRAW\n",
            "Player 1 wins!\n",
            "DRAW\n",
            "DRAW\n",
            "DRAW\n",
            "DRAW\n",
            "Player 1 wins!\n",
            "Player 1 wins!\n",
            "Player -1 wins!\n",
            "Player 1 wins!\n",
            "DRAW\n",
            "Player -1 wins!\n",
            "DRAW\n",
            "DRAW\n",
            "DRAW\n",
            "DRAW\n",
            "DRAW\n",
            "DRAW\n",
            "Player 1 wins!\n",
            "DRAW\n",
            "Player -1 wins!\n",
            "Player 1 wins!\n",
            "DRAW\n",
            "Player 1 wins!\n",
            "Player -1 wins!\n",
            "Player 1 wins!\n",
            "Player -1 wins!\n",
            "DRAW\n",
            "DRAW\n",
            "Player 1 wins!\n",
            "Player 1 wins!\n",
            "Player -1 wins!\n",
            "Player -1 wins!\n",
            "Player -1 wins!\n",
            "DRAW\n",
            "Player -1 wins!\n",
            "DRAW\n",
            "Player 1 wins!\n",
            "DRAW\n",
            "Player -1 wins!\n",
            "Player -1 wins!\n",
            "DRAW\n",
            "Player -1 wins!\n",
            "DRAW\n",
            "Player 1 wins!\n",
            "Player -1 wins!\n",
            "Player -1 wins!\n",
            "Player -1 wins!\n",
            "Player 1 wins!\n",
            "Player 1 wins!\n",
            "Player -1 wins!\n",
            "DRAW\n",
            "Player 1 wins!\n",
            "Player -1 wins!\n",
            "Player 1 wins!\n",
            "DRAW\n",
            "Player -1 wins!\n",
            "DRAW\n",
            "DRAW\n",
            "DRAW\n",
            "Player -1 wins!\n",
            "Player -1 wins!\n",
            "Player -1 wins!\n",
            "DRAW\n",
            "DRAW\n",
            "Player -1 wins!\n",
            "Player 1 wins!\n",
            "DRAW\n",
            "DRAW\n",
            "Player 1 wins!\n",
            "DRAW\n",
            "Player -1 wins!\n",
            "DRAW\n",
            "DRAW\n",
            "DRAW\n",
            "Player 1 wins!\n",
            "Player -1 wins!\n",
            "DRAW\n",
            "DRAW\n",
            "Player 1 wins!\n",
            "Player 1 wins!\n",
            "Player -1 wins!\n",
            "DRAW\n",
            "DRAW\n",
            "DRAW\n",
            "Player 1 wins!\n",
            "Player 1 wins!\n",
            "Player 1 wins!\n",
            "DRAW\n",
            "Player -1 wins!\n",
            "DRAW\n",
            "Player 1 wins!\n",
            "Player 1 wins!\n",
            "DRAW\n",
            "Player 1 wins!\n",
            "Player -1 wins!\n",
            "DRAW\n",
            "Player -1 wins!\n",
            "DRAW\n",
            "DRAW\n",
            "Player 1 wins!\n",
            "DRAW\n",
            "DRAW\n",
            "DRAW\n",
            "DRAW\n",
            "DRAW\n",
            "DRAW\n",
            "Player -1 wins!\n",
            "DRAW\n",
            "DRAW\n",
            "DRAW\n",
            "DRAW\n",
            "Player 1 wins!\n",
            "Player 1 wins!\n",
            "DRAW\n",
            "DRAW\n",
            "Player 1 wins!\n",
            "Player 1 wins!\n",
            "DRAW\n",
            "DRAW\n",
            "Player -1 wins!\n",
            "Player 1 wins!\n",
            "Player -1 wins!\n",
            "Player -1 wins!\n",
            "Player 1 wins!\n",
            "DRAW\n",
            "Player -1 wins!\n",
            "DRAW\n",
            "Player -1 wins!\n",
            "DRAW\n",
            "Player -1 wins!\n",
            "Player 1 wins!\n",
            "Player -1 wins!\n",
            "Player -1 wins!\n",
            "DRAW\n",
            "Player -1 wins!\n",
            "DRAW\n",
            "Player -1 wins!\n",
            "Player -1 wins!\n",
            "DRAW\n",
            "DRAW\n",
            "Player -1 wins!\n",
            "Player -1 wins!\n",
            "DRAW\n",
            "Player 1 wins!\n",
            "Player 1 wins!\n",
            "DRAW\n",
            "Player 1 wins!\n",
            "DRAW\n",
            "Player -1 wins!\n",
            "DRAW\n",
            "DRAW\n",
            "Player 1 wins!\n",
            "DRAW\n",
            "DRAW\n",
            "Player 1 wins!\n",
            "DRAW\n",
            "Player -1 wins!\n",
            "Player -1 wins!\n",
            "DRAW\n",
            "DRAW\n",
            "DRAW\n",
            "DRAW\n",
            "Player 1 wins!\n",
            "Player 1 wins!\n",
            "Player -1 wins!\n",
            "DRAW\n",
            "DRAW\n",
            "DRAW\n",
            "DRAW\n",
            "DRAW\n",
            "DRAW\n",
            "DRAW\n",
            "Player -1 wins!\n",
            "DRAW\n",
            "DRAW\n",
            "DRAW\n",
            "Player 1 wins!\n",
            "DRAW\n",
            "Player -1 wins!\n",
            "DRAW\n",
            "Player 1 wins!\n",
            "Player 1 wins!\n",
            "Player 1 wins!\n",
            "DRAW\n",
            "Player -1 wins!\n",
            "DRAW\n",
            "DRAW\n",
            "DRAW\n",
            "DRAW\n",
            "DRAW\n",
            "DRAW\n",
            "Player 1 wins!\n",
            "DRAW\n",
            "Player 1 wins!\n",
            "Player 1 wins!\n",
            "Player -1 wins!\n",
            "DRAW\n",
            "Player 1 wins!\n",
            "Player 1 wins!\n",
            "DRAW\n",
            "DRAW\n",
            "Player -1 wins!\n",
            "DRAW\n",
            "Player 1 wins!\n",
            "Player 1 wins!\n",
            "DRAW\n",
            "DRAW\n",
            "DRAW\n",
            "Player 1 wins!\n",
            "DRAW\n",
            "Player -1 wins!\n",
            "Player -1 wins!\n",
            "DRAW\n",
            "DRAW\n",
            "DRAW\n",
            "DRAW\n",
            "DRAW\n",
            "DRAW\n",
            "Player -1 wins!\n",
            "Player -1 wins!\n",
            "Player 1 wins!\n",
            "Player -1 wins!\n",
            "DRAW\n",
            "DRAW\n",
            "DRAW\n",
            "Player 1 wins!\n",
            "DRAW\n",
            "Player 1 wins!\n",
            "Player 1 wins!\n",
            "Player -1 wins!\n",
            "DRAW\n",
            "DRAW\n",
            "Player 1 wins!\n",
            "Player 1 wins!\n",
            "Player 1 wins!\n",
            "Player -1 wins!\n",
            "DRAW\n",
            "Player -1 wins!\n",
            "DRAW\n",
            "Player 1 wins!\n",
            "DRAW\n",
            "Player 1 wins!\n",
            "Player 1 wins!\n",
            "Player 1 wins!\n",
            "DRAW\n",
            "Player -1 wins!\n",
            "DRAW\n",
            "DRAW\n",
            "Player 1 wins!\n",
            "Player 1 wins!\n",
            "DRAW\n",
            "Player -1 wins!\n",
            "DRAW\n",
            "Player 1 wins!\n",
            "Player -1 wins!\n",
            "DRAW\n",
            "Player -1 wins!\n",
            "DRAW\n",
            "Player -1 wins!\n",
            "Player 1 wins!\n",
            "DRAW\n",
            "Player -1 wins!\n",
            "DRAW\n",
            "Player -1 wins!\n",
            "DRAW\n",
            "Player 1 wins!\n",
            "Player 1 wins!\n",
            "DRAW\n",
            "DRAW\n",
            "Player -1 wins!\n",
            "DRAW\n",
            "Player 1 wins!\n",
            "Player -1 wins!\n",
            "Player -1 wins!\n",
            "Player -1 wins!\n",
            "DRAW\n",
            "Player 1 wins!\n",
            "DRAW\n",
            "DRAW\n",
            "Player 1 wins!\n",
            "DRAW\n",
            "DRAW\n",
            "DRAW\n",
            "DRAW\n",
            "DRAW\n",
            "Player 1 wins!\n",
            "DRAW\n",
            "DRAW\n",
            "DRAW\n",
            "DRAW\n",
            "Player 1 wins!\n",
            "Player -1 wins!\n",
            "Player 1 wins!\n",
            "DRAW\n",
            "Player -1 wins!\n",
            "Player -1 wins!\n",
            "Player 1 wins!\n",
            "DRAW\n",
            "Player 1 wins!\n",
            "DRAW\n",
            "Player 1 wins!\n",
            "Player 1 wins!\n",
            "Player 1 wins!\n",
            "Player -1 wins!\n",
            "Player 1 wins!\n",
            "Player -1 wins!\n",
            "Player 1 wins!\n",
            "DRAW\n",
            "DRAW\n",
            "DRAW\n",
            "Player -1 wins!\n",
            "DRAW\n",
            "DRAW\n",
            "DRAW\n",
            "DRAW\n",
            "Player -1 wins!\n",
            "DRAW\n",
            "Player 1 wins!\n",
            "DRAW\n",
            "DRAW\n",
            "DRAW\n",
            "Player -1 wins!\n",
            "DRAW\n",
            "Player -1 wins!\n",
            "Player 1 wins!\n",
            "DRAW\n",
            "DRAW\n",
            "Player 1 wins!\n",
            "DRAW\n",
            "Player -1 wins!\n",
            "DRAW\n",
            "DRAW\n",
            "Player 1 wins!\n",
            "DRAW\n",
            "DRAW\n",
            "DRAW\n",
            "DRAW\n",
            "DRAW\n",
            "Player 1 wins!\n",
            "Player -1 wins!\n",
            "Player -1 wins!\n",
            "DRAW\n",
            "DRAW\n",
            "DRAW\n",
            "DRAW\n",
            "DRAW\n",
            "Player 1 wins!\n",
            "DRAW\n",
            "Player -1 wins!\n",
            "DRAW\n",
            "Player -1 wins!\n",
            "Player -1 wins!\n",
            "Player 1 wins!\n",
            "DRAW\n",
            "Player -1 wins!\n",
            "Player 1 wins!\n",
            "DRAW\n",
            "Player -1 wins!\n",
            "Player -1 wins!\n",
            "DRAW\n",
            "Player 1 wins!\n",
            "DRAW\n",
            "DRAW\n",
            "DRAW\n",
            "Player -1 wins!\n",
            "Player -1 wins!\n",
            "DRAW\n",
            "DRAW\n",
            "DRAW\n",
            "Player 1 wins!\n",
            "Player -1 wins!\n",
            "Player -1 wins!\n",
            "Player -1 wins!\n",
            "Player 1 wins!\n",
            "Player 1 wins!\n",
            "DRAW\n",
            "DRAW\n",
            "Player 1 wins!\n",
            "Player -1 wins!\n",
            "DRAW\n",
            "DRAW\n",
            "Player 1 wins!\n",
            "DRAW\n",
            "Player 1 wins!\n",
            "DRAW\n",
            "Player 1 wins!\n",
            "DRAW\n",
            "Player -1 wins!\n",
            "DRAW\n",
            "DRAW\n",
            "Player -1 wins!\n",
            "DRAW\n",
            "DRAW\n",
            "DRAW\n",
            "Player 1 wins!\n",
            "Player 1 wins!\n",
            "DRAW\n",
            "DRAW\n",
            "Player 1 wins!\n",
            "Player 1 wins!\n",
            "Player 1 wins!\n",
            "DRAW\n",
            "DRAW\n",
            "Player -1 wins!\n",
            "DRAW\n",
            "Player -1 wins!\n",
            "Player 1 wins!\n",
            "DRAW\n",
            "DRAW\n",
            "Player -1 wins!\n",
            "Player 1 wins!\n",
            "DRAW\n",
            "DRAW\n",
            "Player -1 wins!\n",
            "Player -1 wins!\n",
            "Player 1 wins!\n",
            "DRAW\n",
            "Player 1 wins!\n",
            "Player -1 wins!\n",
            "Player 1 wins!\n",
            "DRAW\n",
            "DRAW\n",
            "Player -1 wins!\n",
            "DRAW\n",
            "DRAW\n",
            "Player 1 wins!\n",
            "Player -1 wins!\n",
            "DRAW\n",
            "Player 1 wins!\n",
            "DRAW\n",
            "Player -1 wins!\n",
            "Player -1 wins!\n",
            "Player -1 wins!\n",
            "Player -1 wins!\n",
            "DRAW\n",
            "Player -1 wins!\n",
            "DRAW\n",
            "Player 1 wins!\n",
            "DRAW\n",
            "Player -1 wins!\n",
            "DRAW\n",
            "DRAW\n",
            "DRAW\n",
            "DRAW\n",
            "Player -1 wins!\n",
            "Player -1 wins!\n",
            "DRAW\n",
            "Player 1 wins!\n",
            "Player 1 wins!\n",
            "DRAW\n",
            "DRAW\n",
            "DRAW\n",
            "Player 1 wins!\n",
            "DRAW\n",
            "Player 1 wins!\n",
            "Player -1 wins!\n",
            "Player -1 wins!\n",
            "DRAW\n",
            "Player -1 wins!\n",
            "DRAW\n",
            "Player -1 wins!\n",
            "Player -1 wins!\n",
            "Player 1 wins!\n",
            "DRAW\n",
            "Player 1 wins!\n",
            "Player -1 wins!\n",
            "DRAW\n",
            "DRAW\n",
            "DRAW\n",
            "Player -1 wins!\n",
            "DRAW\n",
            "DRAW\n",
            "Player -1 wins!\n",
            "DRAW\n",
            "Player 1 wins!\n",
            "DRAW\n",
            "DRAW\n",
            "DRAW\n",
            "Player -1 wins!\n",
            "Player -1 wins!\n",
            "DRAW\n",
            "DRAW\n",
            "Player 1 wins!\n",
            "Player -1 wins!\n",
            "Player -1 wins!\n",
            "DRAW\n",
            "Player 1 wins!\n",
            "Player -1 wins!\n",
            "Player -1 wins!\n",
            "Player -1 wins!\n",
            "Player 1 wins!\n",
            "DRAW\n",
            "Player 1 wins!\n",
            "Player 1 wins!\n",
            "Player 1 wins!\n",
            "Player -1 wins!\n",
            "Player -1 wins!\n",
            "Player 1 wins!\n",
            "DRAW\n",
            "DRAW\n",
            "Player -1 wins!\n",
            "Player 1 wins!\n",
            "DRAW\n",
            "Player -1 wins!\n",
            "Player -1 wins!\n",
            "Player -1 wins!\n",
            "Player -1 wins!\n",
            "Player 1 wins!\n",
            "DRAW\n",
            "DRAW\n",
            "DRAW\n",
            "DRAW\n",
            "DRAW\n",
            "DRAW\n",
            "DRAW\n",
            "Player 1 wins!\n",
            "Player -1 wins!\n",
            "Player 1 wins!\n",
            "DRAW\n",
            "Player -1 wins!\n",
            "Player 1 wins!\n",
            "DRAW\n",
            "DRAW\n",
            "DRAW\n",
            "DRAW\n",
            "DRAW\n",
            "DRAW\n",
            "Player -1 wins!\n",
            "Player -1 wins!\n",
            "DRAW\n",
            "Player 1 wins!\n",
            "DRAW\n",
            "DRAW\n",
            "Player -1 wins!\n",
            "Player 1 wins!\n",
            "Player -1 wins!\n",
            "DRAW\n",
            "DRAW\n",
            "DRAW\n",
            "DRAW\n",
            "Player 1 wins!\n",
            "Player -1 wins!\n",
            "DRAW\n",
            "DRAW\n",
            "Player 1 wins!\n",
            "DRAW\n",
            "Player -1 wins!\n",
            "DRAW\n",
            "Player 1 wins!\n",
            "Player -1 wins!\n",
            "DRAW\n",
            "Player 1 wins!\n",
            "Player -1 wins!\n",
            "Player 1 wins!\n",
            "Player 1 wins!\n",
            "DRAW\n",
            "Player -1 wins!\n",
            "Player 1 wins!\n",
            "DRAW\n",
            "Player -1 wins!\n",
            "DRAW\n",
            "Player 1 wins!\n",
            "DRAW\n",
            "DRAW\n",
            "DRAW\n",
            "DRAW\n",
            "DRAW\n",
            "Player 1 wins!\n",
            "DRAW\n",
            "Player 1 wins!\n",
            "DRAW\n",
            "DRAW\n",
            "Player 1 wins!\n",
            "Player 1 wins!\n",
            "Player 1 wins!\n",
            "Player 1 wins!\n",
            "Player 1 wins!\n",
            "Player -1 wins!\n",
            "Player 1 wins!\n",
            "DRAW\n",
            "Player -1 wins!\n",
            "Player 1 wins!\n",
            "Player -1 wins!\n",
            "DRAW\n",
            "Player 1 wins!\n",
            "Player 1 wins!\n",
            "Player -1 wins!\n",
            "Player -1 wins!\n",
            "DRAW\n",
            "DRAW\n",
            "Player -1 wins!\n",
            "Player -1 wins!\n",
            "DRAW\n",
            "Player 1 wins!\n",
            "DRAW\n",
            "DRAW\n",
            "Player 1 wins!\n",
            "Player -1 wins!\n",
            "DRAW\n",
            "DRAW\n",
            "DRAW\n",
            "Player 1 wins!\n",
            "DRAW\n",
            "DRAW\n",
            "Player 1 wins!\n",
            "Player 1 wins!\n",
            "DRAW\n",
            "Player -1 wins!\n",
            "Player 1 wins!\n",
            "Player 1 wins!\n",
            "DRAW\n",
            "DRAW\n",
            "DRAW\n",
            "Player -1 wins!\n",
            "Player 1 wins!\n",
            "DRAW\n",
            "Player 1 wins!\n",
            "DRAW\n",
            "DRAW\n",
            "Player 1 wins!\n",
            "Player 1 wins!\n",
            "DRAW\n",
            "Player -1 wins!\n",
            "DRAW\n",
            "DRAW\n",
            "DRAW\n",
            "DRAW\n",
            "DRAW\n",
            "Player -1 wins!\n",
            "Player 1 wins!\n",
            "Player 1 wins!\n",
            "Player 1 wins!\n",
            "Player -1 wins!\n",
            "DRAW\n",
            "DRAW\n",
            "DRAW\n",
            "DRAW\n",
            "DRAW\n",
            "DRAW\n",
            "Player -1 wins!\n",
            "DRAW\n",
            "Player 1 wins!\n",
            "DRAW\n",
            "Player -1 wins!\n",
            "Player -1 wins!\n",
            "DRAW\n",
            "Player 1 wins!\n",
            "Player 1 wins!\n",
            "DRAW\n",
            "DRAW\n",
            "Player 1 wins!\n",
            "DRAW\n",
            "Player 1 wins!\n",
            "Player -1 wins!\n",
            "Player 1 wins!\n",
            "DRAW\n",
            "DRAW\n",
            "DRAW\n",
            "DRAW\n",
            "Player -1 wins!\n",
            "DRAW\n",
            "Player 1 wins!\n",
            "Player 1 wins!\n",
            "DRAW\n",
            "Player -1 wins!\n",
            "DRAW\n",
            "Player 1 wins!\n",
            "DRAW\n",
            "DRAW\n",
            "Player -1 wins!\n",
            "DRAW\n",
            "Player -1 wins!\n",
            "\n",
            "CPU times: user 929 ms, sys: 3.79 ms, total: 932 ms\n",
            "Wall time: 578 ms\n"
          ]
        }
      ],
      "source": [
        "%time wins,s = play(random_player, random_player)"
      ]
    },
    {
      "cell_type": "code",
      "execution_count": 16,
      "metadata": {},
      "outputs": [
        {
          "name": "stdout",
          "output_type": "stream",
          "text": [
            "1's wins: 260\n",
            "-1's wins: 247\n"
          ]
        }
      ],
      "source": [
        "print('1\\'s wins:', wins.count(1))\n",
        "print('-1\\'s wins:', wins.count(-1))"
      ]
    },
    {
      "cell_type": "markdown",
      "metadata": {},
      "source": [
        "These results definitely make sense, as I would expect each one to win 50% of the time with random decisions"
      ]
    },
    {
      "cell_type": "markdown",
      "metadata": {
        "id": "VTBgMfFqJCWg"
      },
      "source": [
        "## Task 3: Minimax Search with Alpha-Beta Pruning\n",
        "\n",
        "### Implement the Search [20 points]\n",
        "\n",
        "Implement minimax search starting from a given board for specifying the player.\n",
        "You can use code from the [tic-tac-toe example](https://nbviewer.org/github/mhahsler/CS7320-AI/blob/master/Games/tictactoe_alpha_beta_tree_search.ipynb).\n",
        "\n",
        "__Important Notes:__\n",
        "* Make sure that all your agent functions have a signature consistent with the random agent above and that it [uses a class to store state information.](https://nbviewer.org/github/mhahsler/CS7320-AI/blob/master/HOWTOs/store_agent_state_information.ipynb)\n",
        "This is essential to be able play against agents from other students later.\n",
        "* The search space for a $6 \\times 7$ board is large. You can experiment with smaller boards (the smallest is $4 \\times 4$) and/or changing the winning rule to connect 3 instead of 4."
      ]
    },
    {
      "cell_type": "code",
      "execution_count": 17,
      "metadata": {
        "id": "_WVaeZ4PJCWg"
      },
      "outputs": [],
      "source": [
        "# Your code/ answer goes here.\n",
        "import math \n",
        "\n",
        "class Agent:\n",
        "    # Initializing self, only variable is player value to determine whether to minimize or maximize utility\n",
        "    def __init__(self, player):\n",
        "        self.player = player\n",
        "\n",
        "    def minimax_search(self, s):\n",
        "        # Maximizing player\n",
        "        if self.player == 1:\n",
        "            value, move = self.max_value(s, -math.inf, +math.inf)\n",
        "            #print('move', move)\n",
        "            return move\n",
        "        # Minimizing player\n",
        "        if self.player == -1:\n",
        "            value, move = self.min_value(s, -math.inf, +math.inf)\n",
        "            #print('move', move)\n",
        "            return move\n",
        "\n",
        "    def max_value(self, s, alpha, beta):\n",
        "        # Getting utility\n",
        "        v = utility(s)\n",
        "        # If victory or draw, return the utility, move, and begin backpropagating\n",
        "        if v is not None:\n",
        "            return v, None\n",
        "        v, move = -math.inf, None\n",
        "        # For each action, finding the value that the other player will choose\n",
        "        for a in actions(s):\n",
        "            s_copy = s.copy()\n",
        "            v2, a2 = self.min_value(results(s_copy, a, 1), alpha, beta)\n",
        "            # Comparing different nodes until we find one that is optimal\n",
        "            if v2 > v:\n",
        "                v, move = v2, a\n",
        "                alpha = max(alpha, v)\n",
        "            # If v is greater than beta, return this optimal move\n",
        "            if v >= beta:\n",
        "                return v, move\n",
        "        return v, move\n",
        "    \n",
        "    def min_value(self, s, alpha, beta):\n",
        "        v = utility(s)\n",
        "        if v is not None: \n",
        "            return v, None\n",
        "        v, move = +math.inf, None\n",
        "        # For each action, finding the value that the other player will choose\n",
        "        for a in actions(s):\n",
        "            s_copy = s.copy()\n",
        "            v2, a2 = self.max_value(results(s_copy, a, -1), alpha, beta)\n",
        "            # If v2 is better, set value and move to v2 and that action\n",
        "            if v2 < v:\n",
        "                v, move = v2, a\n",
        "                # Beta will be the minimum between this value and the previous beta\n",
        "                beta = min(beta, v)\n",
        "            # If v is less than alpha, return this optimal move\n",
        "            if v <= alpha:\n",
        "                return v, move\n",
        "        return v, move"
      ]
    },
    {
      "cell_type": "code",
      "execution_count": 18,
      "metadata": {
        "id": "BZpRtIgWJCWh"
      },
      "outputs": [
        {
          "name": "stdout",
          "output_type": "stream",
          "text": [
            "DRAW\n",
            "DRAW\n",
            "DRAW\n",
            "DRAW\n",
            "DRAW\n",
            "DRAW\n",
            "DRAW\n",
            "DRAW\n",
            "DRAW\n",
            "DRAW\n",
            "\n",
            "1's wins: 0\n",
            "-1's wins: 0\n"
          ]
        }
      ],
      "source": [
        "# Your code/ answer goes here.\n",
        "agent1 = Agent(1)\n",
        "agent2 = Agent(-1)\n",
        "\n",
        "wins, s = play(agent1.minimax_search, agent2.minimax_search, N=10)\n",
        "print('1\\'s wins:', wins.count(1))\n",
        "print('-1\\'s wins:', wins.count(-1))"
      ]
    },
    {
      "cell_type": "markdown",
      "metadata": {},
      "source": [
        "Every time, there was a draw. This makes sense, as the agents are looking to block each other's wins at every opportunity. This will eventually simply block wins and fill up the board"
      ]
    },
    {
      "cell_type": "markdown",
      "metadata": {
        "id": "3tINvTLXJCWh"
      },
      "source": [
        "Experiment with some manually created boards (at least 5) to check if the agent spots winning opportunities."
      ]
    },
    {
      "cell_type": "markdown",
      "metadata": {},
      "source": [
        "I will first make custom boards of the classic dimensions, then I will create custom boards with a 4 by 4 dimension. The reason for making the classic sized boards is to use for heuristic search."
      ]
    },
    {
      "cell_type": "code",
      "execution_count": 19,
      "metadata": {},
      "outputs": [
        {
          "data": {
            "text/plain": [
              "array([[0, 0, 0, 0, 0, 0, 0],\n",
              "       [0, 0, 0, 0, 0, 0, 0],\n",
              "       [0, 0, 0, 0, 0, 0, 0],\n",
              "       [0, 0, 0, 0, 0, 0, 0],\n",
              "       [0, 0, 0, 0, 0, 0, 0],\n",
              "       [0, 0, 1, 1, 1, 0, 0]])"
            ]
          },
          "execution_count": 19,
          "metadata": {},
          "output_type": "execute_result"
        }
      ],
      "source": [
        "s1 = empty_board(shape=(6,7))\n",
        "\n",
        "s1[5][2:5] = 1\n",
        "s1"
      ]
    },
    {
      "cell_type": "code",
      "execution_count": 20,
      "metadata": {},
      "outputs": [
        {
          "data": {
            "text/plain": [
              "array([[ 0,  0,  0,  0,  0,  0,  0],\n",
              "       [ 0,  0,  0,  0,  0,  0,  0],\n",
              "       [ 0,  0,  0,  0,  0,  0,  0],\n",
              "       [ 0,  0,  0,  0,  1, -1,  0],\n",
              "       [ 0,  0,  0,  1, -1, -1,  0],\n",
              "       [ 0,  0,  1, -1, -1, -1,  0]])"
            ]
          },
          "execution_count": 20,
          "metadata": {},
          "output_type": "execute_result"
        }
      ],
      "source": [
        "s2 = empty_board(shape=(6,7))\n",
        "s2[5][3:5]=-1\n",
        "s2[4][4]=-1\n",
        "s2[5][5] = -1\n",
        "s2[4][5] = -1\n",
        "s2[3][5] = -1\n",
        "s2[5][2] = 1\n",
        "s2[4][3] = 1\n",
        "s2[3][4] = 1\n",
        "s2"
      ]
    },
    {
      "cell_type": "code",
      "execution_count": 21,
      "metadata": {},
      "outputs": [
        {
          "data": {
            "text/plain": [
              "array([[ 0,  0,  0,  0,  0,  0,  0],\n",
              "       [ 0,  0,  0,  0,  0,  0,  0],\n",
              "       [ 0,  0,  0,  0,  0,  0,  0],\n",
              "       [ 0,  0,  0,  0,  0, -1,  0],\n",
              "       [ 0,  0,  0,  0,  0, -1,  0],\n",
              "       [ 0,  0,  0,  0,  0, -1,  0]])"
            ]
          },
          "execution_count": 21,
          "metadata": {},
          "output_type": "execute_result"
        }
      ],
      "source": [
        "s3 = empty_board(shape=(6,7))\n",
        "s3[5][5]=-1\n",
        "s3[4][5] = -1\n",
        "s3[3][5] = -1\n",
        "s3"
      ]
    },
    {
      "cell_type": "code",
      "execution_count": 22,
      "metadata": {},
      "outputs": [
        {
          "data": {
            "text/plain": [
              "array([[ 0,  0,  0,  0,  0,  0,  0],\n",
              "       [ 0,  0,  0,  0,  0,  0,  0],\n",
              "       [ 0,  0,  0,  0,  0,  0,  0],\n",
              "       [ 1, -1,  0,  0,  0,  0,  0],\n",
              "       [ 1,  1, -1,  0,  0,  0,  0],\n",
              "       [ 1,  1,  1, -1,  0,  0,  0]])"
            ]
          },
          "execution_count": 22,
          "metadata": {},
          "output_type": "execute_result"
        }
      ],
      "source": [
        "s4 = empty_board(shape=(6,7))\n",
        "s4[5][3] = -1\n",
        "s4[5][2] = 1\n",
        "s4[4][2] = -1\n",
        "s4[5][1] = 1\n",
        "s4[4][1] = 1\n",
        "s4[3][1] = -1\n",
        "s4[5][0] = 1\n",
        "s4[4][0] = 1\n",
        "s4[3][0] = 1\n",
        "s4"
      ]
    },
    {
      "cell_type": "code",
      "execution_count": 23,
      "metadata": {},
      "outputs": [
        {
          "data": {
            "text/plain": [
              "array([[ 0,  0,  0,  0,  0,  0,  0],\n",
              "       [ 0,  0,  0,  0,  0,  0,  0],\n",
              "       [ 0,  0,  0,  0,  0,  0,  0],\n",
              "       [-1,  0,  0,  0,  0,  0,  0],\n",
              "       [-1,  0,  0,  0,  0,  0,  0],\n",
              "       [-1,  0,  1,  1,  1,  0,  0]])"
            ]
          },
          "execution_count": 23,
          "metadata": {},
          "output_type": "execute_result"
        }
      ],
      "source": [
        "s5 = empty_board(shape=(6,7))\n",
        "s5[5][2:5] = 1\n",
        "s5[5][0] = -1\n",
        "s5[4][0] = -1\n",
        "s5[3][0] = -1\n",
        "s5"
      ]
    },
    {
      "cell_type": "code",
      "execution_count": 24,
      "metadata": {},
      "outputs": [
        {
          "data": {
            "image/png": "[encoded data removed]",
            "text/plain": [
              "<Figure size 640x480 with 1 Axes>"
            ]
          },
          "metadata": {},
          "output_type": "display_data"
        }
      ],
      "source": [
        "b1 = empty_board(shape=(4,4))\n",
        "b1[3][0:3] = -1\n",
        "visualize(b1)"
      ]
    },
    {
      "cell_type": "code",
      "execution_count": 25,
      "metadata": {},
      "outputs": [
        {
          "name": "stdout",
          "output_type": "stream",
          "text": [
            "Maximizings move: 3\n",
            "Minimizings move: 2\n"
          ]
        }
      ],
      "source": [
        "print('Maximizings move:',agent1.minimax_search(b1))\n",
        "print('Minimizings move:', agent2.minimax_search(b1))"
      ]
    },
    {
      "cell_type": "markdown",
      "metadata": {},
      "source": [
        "The maximizing agent blocks the other agent's move, but the minimizing agent does not go for the winning move."
      ]
    },
    {
      "cell_type": "code",
      "execution_count": 26,
      "metadata": {},
      "outputs": [
        {
          "data": {
            "image/png": "[encoded data removed]",
            "text/plain": [
              "<Figure size 640x480 with 1 Axes>"
            ]
          },
          "metadata": {},
          "output_type": "display_data"
        }
      ],
      "source": [
        "b2 = empty_board(shape=(4,4))\n",
        "b2[3][2] = -1\n",
        "b2[1][2] = -1\n",
        "b2[2][2] = -1\n",
        "visualize(b2)"
      ]
    },
    {
      "cell_type": "code",
      "execution_count": 27,
      "metadata": {},
      "outputs": [
        {
          "name": "stdout",
          "output_type": "stream",
          "text": [
            "Maximizings move: 2\n",
            "Minimizings move: 0\n"
          ]
        }
      ],
      "source": [
        "print('Maximizings move:',agent1.minimax_search(b2))\n",
        "print('Minimizings move:', agent2.minimax_search(b2))"
      ]
    },
    {
      "cell_type": "markdown",
      "metadata": {},
      "source": [
        "Again, the maximizing agent blocks the win, but the minimizing agent does not go for the winning move"
      ]
    },
    {
      "cell_type": "code",
      "execution_count": 28,
      "metadata": {},
      "outputs": [
        {
          "data": {
            "image/png": "[encoded data removed]",
            "text/plain": [
              "<Figure size 640x480 with 1 Axes>"
            ]
          },
          "metadata": {},
          "output_type": "display_data"
        }
      ],
      "source": [
        "b3 = empty_board(shape=(4,4))\n",
        "b3[3][1:3] = 1\n",
        "b3[3][0] = -1\n",
        "b3[2][1] = -1\n",
        "b3[2][2] = 1 \n",
        "b3[1][2] = -1\n",
        "b3[3][3] = 1\n",
        "b3[2][3] = 1\n",
        "b3[1][3] = -1\n",
        "visualize(b3)"
      ]
    },
    {
      "cell_type": "code",
      "execution_count": 29,
      "metadata": {},
      "outputs": [
        {
          "name": "stdout",
          "output_type": "stream",
          "text": [
            "Maximizings move: 0\n",
            "Minimizings move: 0\n"
          ]
        }
      ],
      "source": [
        "print('Maximizings move:',agent1.minimax_search(b3))\n",
        "print('Minimizings move:', agent2.minimax_search(b3))"
      ]
    },
    {
      "cell_type": "markdown",
      "metadata": {},
      "source": [
        "The maximizing agent didn't immediately block the other's win. Also, the minimizing agent did not play a winning move."
      ]
    },
    {
      "cell_type": "code",
      "execution_count": 30,
      "metadata": {},
      "outputs": [
        {
          "data": {
            "image/png": "[encoded data removed]",
            "text/plain": [
              "<Figure size 640x480 with 1 Axes>"
            ]
          },
          "metadata": {},
          "output_type": "display_data"
        }
      ],
      "source": [
        "b4 = empty_board(shape=(4,4))\n",
        "b4[3][1] = 1\n",
        "b4[3][2] = 1\n",
        "b4[3][3] = 1\n",
        "visualize(b4)"
      ]
    },
    {
      "cell_type": "code",
      "execution_count": 31,
      "metadata": {},
      "outputs": [
        {
          "name": "stdout",
          "output_type": "stream",
          "text": [
            "Maximizings move: 0\n",
            "Minimizings move: 0\n"
          ]
        }
      ],
      "source": [
        "print('Maximizings move:',agent1.minimax_search(b4))\n",
        "print('Minimizings move:', agent2.minimax_search(b4))"
      ]
    },
    {
      "cell_type": "markdown",
      "metadata": {},
      "source": [
        "The maximizing agent went for the winning move, and the minimizing agent sought to block the other's win."
      ]
    },
    {
      "cell_type": "code",
      "execution_count": 32,
      "metadata": {},
      "outputs": [
        {
          "data": {
            "image/png": "[encoded data removed]",
            "text/plain": [
              "<Figure size 640x480 with 1 Axes>"
            ]
          },
          "metadata": {},
          "output_type": "display_data"
        }
      ],
      "source": [
        "b5 = empty_board(shape=(4,4))\n",
        "b5[3][0:3] = -1\n",
        "b5[2][0:2] = -1\n",
        "b5[1][0] = -1\n",
        "b5[2][2] = 1\n",
        "b5[1][1] = 1\n",
        "b5[3][3] = 1\n",
        "visualize(b5)"
      ]
    },
    {
      "cell_type": "code",
      "execution_count": 33,
      "metadata": {},
      "outputs": [
        {
          "name": "stdout",
          "output_type": "stream",
          "text": [
            "Maximizings move: 0\n",
            "Minimizings move: 0\n"
          ]
        }
      ],
      "source": [
        "print('Maximizings move:',agent1.minimax_search(b5))\n",
        "print('Minimizings move:', agent2.minimax_search(b5))"
      ]
    },
    {
      "cell_type": "markdown",
      "metadata": {},
      "source": [
        "Both agents went for the winning move."
      ]
    },
    {
      "cell_type": "markdown",
      "metadata": {
        "id": "Sn8iMtRYJCWh"
      },
      "source": [
        "How long does it take to make a move? Start with a smaller board with 4 columns and make the board larger by adding columns."
      ]
    },
    {
      "cell_type": "code",
      "execution_count": 34,
      "metadata": {
        "id": "jqC60UVlJCWh"
      },
      "outputs": [
        {
          "name": "stdout",
          "output_type": "stream",
          "text": [
            "[1.4071340560913086]\n",
            "[4]\n"
          ]
        }
      ],
      "source": [
        "# Your code/ answer goes here.\n",
        "import time\n",
        "import matplotlib.pyplot as plt\n",
        "times = []\n",
        "columns = []\n",
        "\n",
        "board = empty_board(shape=(4,4))\n",
        "for i in range (4,5):\n",
        "    columns.append(i)\n",
        "    board = empty_board(shape=(4,i))\n",
        "    start=time.time()\n",
        "    agent1.minimax_search(board)\n",
        "    end=time.time()\n",
        "    execution = end-start\n",
        "    times.append(execution)\n",
        "print(times)\n",
        "print(columns)\n",
        "\n",
        "#plt.plot(times, columns)\n",
        "###plt.xlabel('Times in seconds')\n",
        "#plt.ylabel('Column length')\n",
        "#plt.show()"
      ]
    },
    {
      "cell_type": "markdown",
      "metadata": {},
      "source": [
        "It took 1.4 seconds each time I conducted the timing test on a board with 4 columns though."
      ]
    },
    {
      "cell_type": "markdown",
      "metadata": {},
      "source": [
        "Unfortunately, I wasn't even able to compute in a reasonable amount of time the minimax search time for a 4x5 board."
      ]
    },
    {
      "cell_type": "markdown",
      "metadata": {
        "id": "2p3_TkKLJCWh"
      },
      "source": [
        "### Move ordering [5 points]\n",
        "\n",
        "Starting the search with better moves will increase the efficiency of alpha-beta pruning. Describe and implement a simple move ordering strategy. Make a table that shows how the ordering strategies influence the time it takes to make a move?"
      ]
    },
    {
      "cell_type": "markdown",
      "metadata": {},
      "source": [
        "The middle rows have the most options for a consecutive line of 4 tokens. Therefore, the middle rows should have the highest possibility of leading to a win. Therefore, we will prioritize the middle rows and have them be the moves that the search algorithm examines first."
      ]
    },
    {
      "cell_type": "code",
      "execution_count": 35,
      "metadata": {},
      "outputs": [
        {
          "name": "stdout",
          "output_type": "stream",
          "text": [
            "[1.4727168083190918, 1.2625699043273926, 1.2571132183074951, 1.2410180568695068, 1.2484698295593262, 1.238455057144165, 1.2470042705535889, 1.2336068153381348, 1.237239122390747]\n"
          ]
        }
      ],
      "source": [
        "import time\n",
        "import matplotlib.pyplot as plt\n",
        "times2 = []\n",
        "\n",
        "for i in range (1, 10):\n",
        "    board = empty_board(shape=(4,4))\n",
        "    start=time.time()\n",
        "    agent1.minimax_search(board)\n",
        "    end=time.time()\n",
        "    execution = end-start\n",
        "    times2.append(execution)\n",
        "print(times2)"
      ]
    },
    {
      "cell_type": "markdown",
      "metadata": {},
      "source": [
        "Above, we are examining the timing before we implement move ordering"
      ]
    },
    {
      "cell_type": "code",
      "execution_count": 36,
      "metadata": {},
      "outputs": [],
      "source": [
        "# For a classic sized board\n",
        "\n",
        "def actions(s):\n",
        "    choices = [col for col in range(len(s[0])) if s[0][col] == 0]\n",
        "    # The middle rows have more opportunities to win, so we will add a priority to the middle rows\n",
        "    priority = [0,1,2,3,2,1,0]\n",
        "    priority = [priority[i] for i in choices]\n",
        "    # Sets the priority rows as the first moves to check\n",
        "    choices = [a for _,a in sorted(zip(priority,choices), reverse=True)]\n",
        "    return choices"
      ]
    },
    {
      "cell_type": "code",
      "execution_count": 37,
      "metadata": {},
      "outputs": [
        {
          "data": {
            "text/plain": [
              "[2, 1, 3, 0]"
            ]
          },
          "execution_count": 37,
          "metadata": {},
          "output_type": "execute_result"
        }
      ],
      "source": [
        "# For a four by four sized board\n",
        "def actions(s):\n",
        "    choices = [col for col in range(len(s[0])) if s[0][col] == 0]\n",
        "    # The middle rows have more opportunities to win, so we will add a priority to the middle rows\n",
        "    priority = [0,1,1,0]\n",
        "    priority = [priority[i] for i in choices]\n",
        "    # Sets the priority rows as the first moves to check\n",
        "    choices = [a for _,a in sorted(zip(priority,choices), reverse=True)]\n",
        "    return choices\n",
        "\n",
        "actions(board)"
      ]
    },
    {
      "cell_type": "markdown",
      "metadata": {},
      "source": [
        "The middle rows are the first to be chosen out of the actions list"
      ]
    },
    {
      "cell_type": "code",
      "execution_count": 38,
      "metadata": {},
      "outputs": [
        {
          "name": "stdout",
          "output_type": "stream",
          "text": [
            "[3.1629250049591064, 3.065884828567505, 3.069476842880249, 3.1233930587768555, 3.102519989013672, 3.106760025024414, 3.1207971572875977, 3.1367809772491455, 3.1058878898620605]\n"
          ]
        }
      ],
      "source": [
        "# Your code/ answer goes here.\n",
        "import time\n",
        "import matplotlib.pyplot as plt\n",
        "times = []\n",
        "\n",
        "for i in range (1, 10):\n",
        "    board = empty_board(shape=(4,4))\n",
        "    start=time.time()\n",
        "    agent1.minimax_search(board)\n",
        "    end=time.time()\n",
        "    execution = end-start\n",
        "    times.append(execution)\n",
        "print(times)\n",
        "\n"
      ]
    },
    {
      "cell_type": "markdown",
      "metadata": {},
      "source": [
        "Ironically, the move ordering increased the amount of time that it took to search with the minimax algorithm"
      ]
    },
    {
      "cell_type": "markdown",
      "metadata": {
        "id": "3L_LmN8fJCWh"
      },
      "source": [
        "### The first few moves [5 points]\n",
        "\n",
        "Start with an empty board. This is the worst case scenario for minimax search since it needs solve all possible games that can be played (minus some pruning) before making the decision. What can you do?"
      ]
    },
    {
      "cell_type": "code",
      "execution_count": 40,
      "metadata": {
        "id": "DTGn_8TuJCWh"
      },
      "outputs": [
        {
          "name": "stdout",
          "output_type": "stream",
          "text": [
            "DRAW\n",
            "Player 1 wins!\n",
            "DRAW\n",
            "Player 1 wins!\n",
            "DRAW\n",
            "\n",
            "Player 1 wins: 2\n",
            "Player -1 wins: 0\n"
          ]
        }
      ],
      "source": [
        "# While this will take a while for a classic connect 4 size, we can implement a heuristic function and a cutoff to limit the search space\n",
        "\n",
        "#random_player(board)\n",
        "agent3 = Agent(1)\n",
        "agent4 = Agent(-1)\n",
        "wins, s = play(agent1.minimax_search, agent2.minimax_search, N=5)\n",
        "\n",
        "print('Player 1 wins:', wins.count(1))\n",
        "print('Player -1 wins:', wins.count(-1))"
      ]
    },
    {
      "cell_type": "markdown",
      "metadata": {
        "id": "aiWFtkopJCWh"
      },
      "source": [
        "### Playtime [5 points]\n",
        "\n",
        "Let the Minimax Search agent play a random agent on a small board. Analyze wins, losses and draws."
      ]
    },
    {
      "cell_type": "code",
      "execution_count": 41,
      "metadata": {
        "id": "_YT7UAcjJCWi"
      },
      "outputs": [
        {
          "name": "stdout",
          "output_type": "stream",
          "text": [
            "Player 1 wins!\n",
            "Player 1 wins!\n",
            "DRAW\n",
            "Player 1 wins!\n",
            "Player 1 wins!\n",
            "Player 1 wins!\n",
            "Player 1 wins!\n",
            "DRAW\n",
            "Player 1 wins!\n",
            "DRAW\n",
            "\n",
            "Player 1 wins: 7\n",
            "Player -1 wins: 0\n"
          ]
        }
      ],
      "source": [
        "# Your code/ answer goes here.\n",
        "wins, s = play(agent1.minimax_search, random_player, N=10)\n",
        "\n",
        "print('Player 1 wins:', wins.count(1))\n",
        "print('Player -1 wins:', wins.count(-1))"
      ]
    },
    {
      "cell_type": "markdown",
      "metadata": {},
      "source": [
        "The minimax search agent won a significantly more amount of games, and the randomized agent was only able to win twice and get 3 draws. This makes sense, as the minimax algorithm utilizes a strategy rather than a random guess like the random agent"
      ]
    },
    {
      "cell_type": "markdown",
      "metadata": {
        "id": "Iz7dH-cuJCWi"
      },
      "source": [
        "## Task 4: Heuristic Alpha-Beta Tree Search\n",
        "\n",
        "### Heuristic evaluation function [15 points]\n",
        "\n",
        "Define and implement a heuristic evaluation function."
      ]
    },
    {
      "cell_type": "markdown",
      "metadata": {},
      "source": [
        "For a heuristic function, we will build off of our check win function to tell if there are three in a row. If there are, we will add to our util variable which is the heuristic we are trying to maximize/minimize."
      ]
    },
    {
      "cell_type": "code",
      "execution_count": 42,
      "metadata": {
        "id": "mRxdv3THJCWi"
      },
      "outputs": [],
      "source": [
        "# Your code/ answer goes here.\n",
        "def eval(s, player):\n",
        "    util = 0\n",
        "    rows = len(s) \n",
        "    cols = len(s[0])  \n",
        "\n",
        "    def in_bounds(x, y):\n",
        "        return 0 <= x < rows and 0 <= y < cols\n",
        "\n",
        "    # Directions for checking three in a row: right, down, diagonal down-right, diagonal down-left\n",
        "    directions = [(0, 1), (1, 0), (1, 1), (1, -1)]\n",
        "\n",
        "    # Loop through each cell in the board\n",
        "    for i in range(rows):\n",
        "        for j in range(cols):\n",
        "            if s[i][j] == player:  # Only check if the cell is not empty\n",
        "                # Check all four directions for a line of three\n",
        "                for dx, dy in directions:\n",
        "                    setup = True\n",
        "                    # Check the next two cells in the chosen direction\n",
        "                    for n in range(1, 3):\n",
        "                        x, y = i + dx * n, j + dy * n\n",
        "                        # Check if the next cells are in bounds and belong to the same player\n",
        "                        if not in_bounds(x, y) or s[x][y] != player:\n",
        "                            setup = False  # Not a winning sequence\n",
        "                            break\n",
        "                    if setup:\n",
        "                        util += player  # Found a winning sequence, game is terminal\n",
        "    # Adding a lot of utility if board is a terminal state\n",
        "    if check_win(s) == player:\n",
        "        util += 10000000\n",
        "\n",
        "    return util"
      ]
    },
    {
      "cell_type": "code",
      "execution_count": 43,
      "metadata": {},
      "outputs": [
        {
          "data": {
            "text/plain": [
              "-1"
            ]
          },
          "execution_count": 43,
          "metadata": {},
          "output_type": "execute_result"
        }
      ],
      "source": [
        "eval(s5, -1)"
      ]
    },
    {
      "cell_type": "markdown",
      "metadata": {},
      "source": [
        "The evaluation function works, as it identified a correct opportunity in one of our preset 6x7 boards"
      ]
    },
    {
      "cell_type": "markdown",
      "metadata": {},
      "source": [
        "This heuristic function evaluates if there are any grouping of three tokens in the map of the specified player, and increases utility based upon how much groupings of three that there are. If there is a winning play, it dramatically increases its utility."
      ]
    },
    {
      "cell_type": "code",
      "execution_count": 44,
      "metadata": {},
      "outputs": [],
      "source": [
        "# This object is mostly the same, but simply uses the evaluation function instead of the utility function. \n",
        "import math \n",
        "\n",
        "class Agent:\n",
        "    # Initializing self, only variable is which mini or max player\n",
        "    def __init__(self, player):\n",
        "        self.player = player\n",
        "\n",
        "    def minimax_search(self, s):\n",
        "        if self.player == 1:\n",
        "            value, move = self.max_value(s, -math.inf, +math.inf)\n",
        "            return move\n",
        "        if self.player == -1:\n",
        "            value, move = self.min_value(s, -math.inf, +math.inf)\n",
        "            return move\n",
        "\n",
        "    def max_value(self, s, alpha, beta):\n",
        "        v = eval(s, 1)\n",
        "        if terminal(s) == True:\n",
        "            return v, None\n",
        "        v, move = -math.inf, None\n",
        "        for a in actions(s):\n",
        "            s_copy = s.copy()\n",
        "            v2, a2 = self.min_value(results(s_copy, a, 1), alpha, beta)\n",
        "            if v2 > v:\n",
        "                v, move = v2, a\n",
        "                alpha = max(alpha, v)\n",
        "            if v >= beta:\n",
        "                return v, move\n",
        "        return v, move\n",
        "    \n",
        "    def min_value(self, s, alpha, beta):\n",
        "        v = eval(s, -1)\n",
        "        if terminal(s) == True:\n",
        "            return v, None\n",
        "        v, move = +math.inf, None\n",
        "        for a in actions(s):\n",
        "            s_copy = s.copy()\n",
        "            v2, a2 = self.max_value(results(s_copy, a, -1), alpha, beta)\n",
        "            if v2 < v:\n",
        "                v, move = v2, a\n",
        "                beta = min(beta, v)\n",
        "            if v <= alpha:\n",
        "                return v, move\n",
        "        return v, move\n",
        "\n",
        "    "
      ]
    },
    {
      "cell_type": "code",
      "execution_count": 45,
      "metadata": {},
      "outputs": [
        {
          "name": "stderr",
          "output_type": "stream",
          "text": [
            "/var/folders/23/42bc0ch52rd5nhcggf3s1mxh0000gn/T/ipykernel_93110/4014877011.py:19: FutureWarning: elementwise comparison failed; returning scalar instead, but in the future will perform elementwise comparison\n",
            "  if board == 'empty':\n"
          ]
        },
        {
          "name": "stdout",
          "output_type": "stream",
          "text": [
            "Player 1 wins!\n",
            "\n"
          ]
        }
      ],
      "source": [
        "agent1 = Agent(1)\n",
        "agent2 = Agent(-1)\n",
        "\n",
        "wins, s = play(agent1.minimax_search, agent2.minimax_search, board=empty_board(shape=(4,4)), N=1)\n"
      ]
    },
    {
      "cell_type": "markdown",
      "metadata": {
        "id": "J7UrueTcJCWi"
      },
      "source": [
        "### Cutting Off Search [10 points]\n",
        "\n",
        "Modify your minimax search with alpha-beta pruning to cut off search at a specified depth and use the heuristic evaluation function. Experiment with different cutoff values."
      ]
    },
    {
      "cell_type": "code",
      "execution_count": 46,
      "metadata": {
        "id": "GrWa4WToJCWi"
      },
      "outputs": [],
      "source": [
        "# Your code/ answer goes here.\n",
        "\n",
        "import math \n",
        "\n",
        "class Agent:\n",
        "    # Everything is the same, except I included the evaluation function in place of the utility function as well as the cutoff function to specify a maximum search depth\n",
        "    def __init__(self, player, depth=0, maxdepth=5):\n",
        "        self.player = player\n",
        "        # Added a current depth and a max depth variable\n",
        "        self.depth = depth\n",
        "        self.maxdepth = maxdepth\n",
        "\n",
        "    def minimax_search(self, s):\n",
        "        if self.player == 1:\n",
        "            value, move = self.max_value(s, -math.inf, +math.inf)\n",
        "            return move\n",
        "        if self.player == -1:\n",
        "            value, move = self.min_value(s, -math.inf, +math.inf)\n",
        "            return move\n",
        "\n",
        "    def max_value(self, s, alpha, beta):\n",
        "        # Evaluation function\n",
        "        v = eval(s, 1)\n",
        "        # Examining if the game is terminal or if the maximum node depth has been reached\n",
        "        if self.is_cutoff(s) == True:\n",
        "            return v, None\n",
        "        self.depth += 1\n",
        "        v, move = -math.inf, None\n",
        "        for a in actions(s):\n",
        "            s_copy = s.copy()\n",
        "            v2, a2 = self.min_value(results(s_copy, a, 1), alpha, beta)\n",
        "            if v2 > v:\n",
        "                v, move = v2, a\n",
        "                alpha = max(alpha, v)\n",
        "            if v >= beta:\n",
        "                return v, move\n",
        "        return v, move\n",
        "    \n",
        "    def min_value(self, s, alpha, beta):\n",
        "        v = eval(s, -1)\n",
        "        if self.is_cutoff(s) == True:\n",
        "            return v, None\n",
        "        self.depth += 1\n",
        "        v, move = +math.inf, None\n",
        "        for a in actions(s):\n",
        "            s_copy = s.copy()\n",
        "            v2, a2 = self.max_value(results(s_copy, a, -1), alpha, beta)\n",
        "            if v2 < v:\n",
        "                v, move = v2, a\n",
        "                beta = min(beta, v)\n",
        "            if v <= alpha:\n",
        "                return v, move\n",
        "        return v, move\n",
        "\n",
        "    def is_cutoff(self, s):\n",
        "        # Cuts off the search at a certain depth or if the state is terminal\n",
        "        if terminal(s) == True:\n",
        "            return True\n",
        "        if self.depth == self.maxdepth:\n",
        "            return True\n",
        "        else:\n",
        "            return False"
      ]
    },
    {
      "cell_type": "markdown",
      "metadata": {
        "id": "oX3LMvxOJCWi"
      },
      "source": [
        "Experiment with the same manually created boards as above to check if the agent spots wining opportunities."
      ]
    },
    {
      "cell_type": "code",
      "execution_count": 47,
      "metadata": {
        "id": "thW-xcQfJCWj"
      },
      "outputs": [
        {
          "data": {
            "text/plain": [
              "2"
            ]
          },
          "execution_count": 47,
          "metadata": {},
          "output_type": "execute_result"
        }
      ],
      "source": [
        "# Your code/ answer goes here.\n",
        "agent = Agent(1, maxdepth=20000)\n",
        "agent.minimax_search(b1)\n",
        "agent.minimax_search(b2)\n",
        "agent.minimax_search(b3)\n",
        "agent.minimax_search(b4)\n",
        "agent.minimax_search(b5)"
      ]
    },
    {
      "cell_type": "markdown",
      "metadata": {},
      "source": [
        "The agent didn't spot the opportunity on one board, but it did spot the opportunity on the last board and blocked the other opponent from winning."
      ]
    },
    {
      "cell_type": "markdown",
      "metadata": {
        "id": "VlhZjyoLJCWj"
      },
      "source": [
        "How long does it take to make a move? Start with a smaller board with 4 columns and make the board larger by adding columns."
      ]
    },
    {
      "cell_type": "code",
      "execution_count": 48,
      "metadata": {
        "id": "mwlLiQKOJCWj"
      },
      "outputs": [
        {
          "name": "stdout",
          "output_type": "stream",
          "text": [
            "[12.47970700263977, 1.71661376953125e-05, 1.8835067749023438e-05, 1.8835067749023438e-05, 2.09808349609375e-05, 2.4080276489257812e-05, 2.5987625122070312e-05, 2.8133392333984375e-05, 3.314018249511719e-05, 3.218650817871094e-05, 3.409385681152344e-05, 3.719329833984375e-05, 3.814697265625e-05, 4.00543212890625e-05, 4.291534423828125e-05, 4.506111145019531e-05]\n"
          ]
        }
      ],
      "source": [
        "\n",
        "# Your code/ answer goes here.\n",
        "agent1 = Agent(1, maxdepth=100000)\n",
        "\n",
        "import time\n",
        "import matplotlib.pyplot as plt\n",
        "times = []\n",
        "columns = []\n",
        "\n",
        "board = empty_board(shape=(4,4))\n",
        "for i in range (4,20):\n",
        "    columns.append(i)\n",
        "    board = empty_board(shape=(4,i))\n",
        "    start=time.time()\n",
        "    agent1.minimax_search(board)\n",
        "    end=time.time()\n",
        "    execution = end-start\n",
        "    times.append(execution)\n",
        "print(times)\n",
        "\n",
        "#plt.plot(times, columns)\n",
        "###plt.xlabel('Times in seconds')\n",
        "#plt.ylabel('Column length')\n",
        "#plt.show()"
      ]
    },
    {
      "cell_type": "markdown",
      "metadata": {},
      "source": [
        "For the size that did find an optimal solution, it took 12 seconds. However, it took only a fraction of the second for the board sizes that were too large to find a move in time (before it hit the max depth)"
      ]
    },
    {
      "cell_type": "markdown",
      "metadata": {
        "id": "B3KTLsYmJCWj"
      },
      "source": [
        "### Playtime [5 points]\n",
        "\n",
        "Let two heuristic search agents (different cutoff depth, different heuristic evaluation function) compete against each other on a reasonably sized board. Since there is no randomness, you only need to let them play once."
      ]
    },
    {
      "cell_type": "code",
      "execution_count": 49,
      "metadata": {
        "id": "KGTTz9SdJCWk"
      },
      "outputs": [
        {
          "name": "stderr",
          "output_type": "stream",
          "text": [
            "/var/folders/23/42bc0ch52rd5nhcggf3s1mxh0000gn/T/ipykernel_93110/4014877011.py:19: FutureWarning: elementwise comparison failed; returning scalar instead, but in the future will perform elementwise comparison\n",
            "  if board == 'empty':\n"
          ]
        },
        {
          "name": "stdout",
          "output_type": "stream",
          "text": [
            "Player 1 wins!\n",
            "\n"
          ]
        },
        {
          "data": {
            "text/plain": [
              "([1],\n",
              " array([[ 0, -1, -1,  0],\n",
              "        [ 0,  1,  1,  0],\n",
              "        [ 0, -1, -1, -1],\n",
              "        [ 1,  1,  1,  1]]))"
            ]
          },
          "execution_count": 49,
          "metadata": {},
          "output_type": "execute_result"
        }
      ],
      "source": [
        "# Your code/ answer goes here.\n",
        "agent1 = Agent(1, maxdepth=1000000)\n",
        "agent2 = Agent(-1, maxdepth=10000000)\n",
        "\n",
        "play(agent1.minimax_search, agent2.minimax_search, board=empty_board(shape=(4,4)), N=1)"
      ]
    },
    {
      "cell_type": "markdown",
      "metadata": {},
      "source": [
        "Oddly enough, the player with the smaller maximum depth won."
      ]
    },
    {
      "cell_type": "markdown",
      "metadata": {
        "id": "9V8P4WFjJCWk"
      },
      "source": [
        "## Challenge task [up to +10 bonus point will be awarded separately]\n",
        "\n",
        "Find another student and let your best agent play against the other student's best player. We will set up a class tournament on Canvas. This tournament will continue after the submission deadline."
      ]
    },
    {
      "cell_type": "markdown",
      "metadata": {
        "id": "EicHD_STJCWk"
      },
      "source": [
        "## Graduate student advanced task: Pure Monte Carlo Search and Best First Move [10 point]\n",
        "\n",
        "__Undergraduate students:__ This is a bonus task you can attempt if you like [+5 bonus point].\n",
        "\n",
        "### Pure Monte Carlo Search\n",
        "\n",
        "Implement Pure Monte Carlo Search and investigate how this search performs on the test boards that you have used above."
      ]
    },
    {
      "cell_type": "code",
      "execution_count": 52,
      "metadata": {},
      "outputs": [],
      "source": [
        "# Your code/ answer goes here.\n",
        "import time\n",
        "import random\n",
        "\n",
        "#Function to switch players\n",
        "def switch_player(player):\n",
        "    if player == 1:\n",
        "        return -1\n",
        "    else:\n",
        "        return 1\n",
        "\n",
        "def play(player1, player2, board='empty', N=10):\n",
        "    # List keeping track of who wins\n",
        "    wins = []\n",
        "    \n",
        "    for i in range(0,N):\n",
        "        if board == 'empty':\n",
        "            s = empty_board(shape = (6,7))\n",
        "        else:\n",
        "            s = board\n",
        "        player = 1\n",
        "\n",
        "        while True:\n",
        "            # First player's move\n",
        "            move1 = player1(s)\n",
        "            # Transition model to get resulting state from action\n",
        "            s = results(s, move1, player=player)\n",
        "            # Checking for win or draw\n",
        "            if terminal(s) == True or move1 == None:\n",
        "                if check_win(s) == 'draw':\n",
        "                    print('DRAW')\n",
        "                    break\n",
        "                else:\n",
        "                    print(f'Player {player} wins!')\n",
        "                    wins.append(player)\n",
        "                    break\n",
        "            # Switch player value\n",
        "            player = switch_player(player)\n",
        "\n",
        "            # Other player's move\n",
        "            move2 = player2(s)\n",
        "            # Getting resulting state from action\n",
        "            s = results(s, move2, player=player)\n",
        "            # Checking if the game is terminal\n",
        "            if terminal(s) == True or move2 == None:\n",
        "                if check_win(s) == 'draw':\n",
        "                    print('DRAW')\n",
        "                    break\n",
        "                else:\n",
        "                    print(f'Player {player} wins!')\n",
        "                    wins.append(player)\n",
        "                    break\n",
        "            # Switch back to other player\n",
        "            player = switch_player(player)\n",
        "    print()\n",
        "    return wins, s# Your code/ answer goes here.\n",
        "def actions(s):\n",
        "    return [col for col in range(len(s[0])) if s[0][col] == 0]\n",
        "\n",
        "# Transition model\n",
        "def results(s, a, player):\n",
        "    if a == None:\n",
        "        return s\n",
        "    # A is an index of which column the agent wants to choose \n",
        "    choice = a\n",
        "    \n",
        "    # Iterates through each row in the board\n",
        "    for i, row in enumerate(s):\n",
        "        # Space that we examine to see if its available\n",
        "        check = s[i][choice]\n",
        "        # If the bottom row and empty, we can play there\n",
        "        if (i == len(s) - 1) and check == 0:\n",
        "            #s = s.copy()\n",
        "            s[i][choice] = player\n",
        "            return s\n",
        "        # If the row has an enemy token, we can place on top of it\n",
        "        if check != 0:\n",
        "            s[i-1][choice] = player\n",
        "            return s\n",
        "\n",
        "def utility(s):\n",
        "    # Depending on which player won, return a utility matching to either the maximizing or minimizing player\n",
        "    goal = check_win(s)\n",
        "    if goal == 1: return 1\n",
        "    if goal == 'draw': return 0\n",
        "    if goal == -1: return -1\n",
        "    # If utility == none, we will keep exploring (this is relevant in our minimax search function)\n",
        "    else:\n",
        "        return None\n",
        "\n",
        "def playout(s, a, player):\n",
        "    s = s.copy()\n",
        "    s = results(s, a, player)\n",
        "    player = switch_player(player)\n",
        "\n",
        "    while(True):\n",
        "        u = utility(s)\n",
        "        if u is not None: \n",
        "            return(u)\n",
        "\n",
        "        # Random playout policy\n",
        "        a = np.random.choice(actions(s))\n",
        "        s = results(s, a, player)\n",
        "\n",
        "        # Switch between players\n",
        "        player = switch_player(player)\n",
        "\n",
        "def playouts(s, a, player, N=60):\n",
        "    return [playout(s, a, player) for i in range(N)]\n",
        "\n",
        "def montecarlo(s, player=1, N=60):\n",
        "    # Getting the average amount of utility \n",
        "    choices = actions(s)\n",
        "    n = math.floor(N/len(choices))\n",
        "    #print(f\"Actions: {choices} ({N} total playouts = {n} playouts per action)\")\n",
        "    \n",
        "    ps = { i : np.mean(playouts(s, i, player, N=n)) for i in choices}\n",
        "    #display(ps)\n",
        "\n",
        "    if player == 1:\n",
        "        action = max(ps, key=ps.get)\n",
        "    else: \n",
        "        action = min(ps, key=ps.get)\n",
        "    #print('Action:', action)\n",
        "    return action"
      ]
    },
    {
      "cell_type": "code",
      "execution_count": 53,
      "metadata": {},
      "outputs": [],
      "source": [
        "# Returns the indices of the columns that have at least 1 open spot for a disk\n",
        "def actions(s):\n",
        "    return [col for col in range(len(s[0])) if s[0][col] == 0]"
      ]
    },
    {
      "cell_type": "code",
      "execution_count": 54,
      "metadata": {},
      "outputs": [
        {
          "data": {
            "text/plain": [
              "1"
            ]
          },
          "execution_count": 54,
          "metadata": {},
          "output_type": "execute_result"
        }
      ],
      "source": [
        "montecarlo(s1, 1)\n",
        "montecarlo(s2, 1)\n",
        "montecarlo(s3, 1)\n",
        "montecarlo(s4, 1)\n",
        "montecarlo(s5, 1)"
      ]
    },
    {
      "cell_type": "code",
      "execution_count": 55,
      "metadata": {},
      "outputs": [
        {
          "name": "stdout",
          "output_type": "stream",
          "text": [
            "1\n"
          ]
        }
      ],
      "source": [
        "move = montecarlo(s1, 1)\n",
        "print(move)"
      ]
    },
    {
      "cell_type": "markdown",
      "metadata": {},
      "source": [
        "The Monte Carlo method got every single winning move on all of the 6x7 boards. If there wasn't a winning move, it blocked the opponent's winning move. Amazing! "
      ]
    },
    {
      "cell_type": "markdown",
      "metadata": {
        "id": "uRsWSy4jJCWl"
      },
      "source": [
        "### Best First Move\n",
        "\n",
        "Use Pure Monte Carlo Search to determine what the best first move is? Describe under what assumptions this is the \"best\" first move.  "
      ]
    },
    {
      "cell_type": "code",
      "execution_count": 56,
      "metadata": {
        "id": "XvZsCUK-JCWl"
      },
      "outputs": [
        {
          "data": {
            "text/plain": [
              "3"
            ]
          },
          "execution_count": 56,
          "metadata": {},
          "output_type": "execute_result"
        }
      ],
      "source": [
        "# Your code/ answer goes here.\n",
        "\n",
        "board = empty_board(shape=(6,7))\n",
        "\n",
        "montecarlo(board, -1, N=100)"
      ]
    },
    {
      "cell_type": "code",
      "execution_count": 57,
      "metadata": {},
      "outputs": [
        {
          "name": "stdout",
          "output_type": "stream",
          "text": [
            "3\n",
            "CPU times: user 639 ms, sys: 68.2 ms, total: 707 ms\n",
            "Wall time: 669 ms\n",
            "\n",
            "3\n",
            "CPU times: user 5.8 s, sys: 409 ms, total: 6.2 s\n",
            "Wall time: 5.97 s\n"
          ]
        }
      ],
      "source": [
        "\n",
        "%time print(montecarlo(board, 1, N = 1000))\n",
        "\n",
        "print()\n",
        "%time print(montecarlo(board, 1, N = 10000))"
      ]
    },
    {
      "cell_type": "markdown",
      "metadata": {},
      "source": [
        "The best first move is absolutely the middle-most column acording to the results. It has the highest percent chance of successfully leading to a win for both the maximizing and minimizing agent."
      ]
    },
    {
      "cell_type": "code",
      "execution_count": 58,
      "metadata": {},
      "outputs": [
        {
          "name": "stdout",
          "output_type": "stream",
          "text": [
            "Player -1 wins!\n",
            "Player -1 wins!\n",
            "Player 1 wins!\n",
            "Player -1 wins!\n",
            "Player -1 wins!\n",
            "Player -1 wins!\n",
            "Player -1 wins!\n",
            "Player -1 wins!\n",
            "Player -1 wins!\n",
            "Player -1 wins!\n",
            "\n",
            "[-1, -1, 1, -1, -1, -1, -1, -1, -1, -1]\n"
          ]
        }
      ],
      "source": [
        "wins, s = play(random_player, montecarlo)\n",
        "print(wins)"
      ]
    },
    {
      "cell_type": "code",
      "execution_count": 59,
      "metadata": {},
      "outputs": [
        {
          "name": "stdout",
          "output_type": "stream",
          "text": [
            "Player 1 wins!\n",
            "Player -1 wins!\n",
            "Player -1 wins!\n",
            "Player 1 wins!\n",
            "Player -1 wins!\n",
            "Player 1 wins!\n",
            "Player 1 wins!\n",
            "Player 1 wins!\n",
            "Player -1 wins!\n",
            "Player -1 wins!\n",
            "\n"
          ]
        },
        {
          "data": {
            "text/plain": [
              "([1, -1, -1, 1, -1, 1, 1, 1, -1, -1],\n",
              " array([[ 1,  1, -1,  1,  1,  0,  0],\n",
              "        [-1, -1,  1, -1, -1,  0, -1],\n",
              "        [ 1,  1, -1, -1, -1,  0,  1],\n",
              "        [-1, -1,  1,  1, -1, -1, -1],\n",
              "        [ 1, -1,  1,  1,  1, -1,  1],\n",
              "        [ 1, -1, -1,  1, -1,  1,  1]]))"
            ]
          },
          "execution_count": 59,
          "metadata": {},
          "output_type": "execute_result"
        }
      ],
      "source": [
        "play(random_player, random_player)"
      ]
    }
  ],
  "metadata": {
    "colab": {
      "provenance": []
    },
    "kernelspec": {
      "display_name": "Python 3 (ipykernel)",
      "language": "python",
      "name": "python3"
    },
    "language_info": {
      "codemirror_mode": {
        "name": "ipython",
        "version": 3
      },
      "file_extension": ".py",
      "mimetype": "text/x-python",
      "name": "python",
      "nbconvert_exporter": "python",
      "pygments_lexer": "ipython3",
      "version": "3.11.4"
    }
  },
  "nbformat": 4,
  "nbformat_minor": 0
}
